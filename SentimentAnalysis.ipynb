{
  "nbformat": 4,
  "nbformat_minor": 0,
  "metadata": {
    "colab": {
      "name": "Untitled1.ipynb",
      "provenance": []
    },
    "kernelspec": {
      "name": "python3",
      "display_name": "Python 3"
    }
  },
  "cells": [
    {
      "cell_type": "code",
      "metadata": {
        "id": "nh1iSw2eT5pO",
        "colab_type": "code",
        "colab": {
          "base_uri": "https://localhost:8080/",
          "height": 98
        },
        "outputId": "60aff24e-bbc1-4d8f-a0e3-739c418ee0a5"
      },
      "source": [
        "from keras.preprocessing.text import Tokenizer\n",
        "from keras.preprocessing.sequence import pad_sequences"
      ],
      "execution_count": 1,
      "outputs": [
        {
          "output_type": "stream",
          "text": [
            "Using TensorFlow backend.\n"
          ],
          "name": "stderr"
        },
        {
          "output_type": "display_data",
          "data": {
            "text/html": [
              "<p style=\"color: red;\">\n",
              "The default version of TensorFlow in Colab will soon switch to TensorFlow 2.x.<br>\n",
              "We recommend you <a href=\"https://www.tensorflow.org/guide/migrate\" target=\"_blank\">upgrade</a> now \n",
              "or ensure your notebook will continue to use TensorFlow 1.x via the <code>%tensorflow_version 1.x</code> magic:\n",
              "<a href=\"https://colab.research.google.com/notebooks/tensorflow_version.ipynb\" target=\"_blank\">more info</a>.</p>\n"
            ],
            "text/plain": [
              "<IPython.core.display.HTML object>"
            ]
          },
          "metadata": {
            "tags": []
          }
        }
      ]
    },
    {
      "cell_type": "code",
      "metadata": {
        "id": "CPRKV7w_SJKc",
        "colab_type": "code",
        "colab": {}
      },
      "source": [
        "train_text = []\n",
        "\n",
        "Y_train = []\n",
        "with open(\"train.txt\",\"r\") as fd:\n",
        "  ln = \"\"\n",
        "  for i in fd.readlines():\n",
        "    h = i.split()\n",
        "    if len(h)<2:\n",
        "      continue\n",
        "    elif h[0]==\"meta\":\n",
        "      train_text.append(ln)\n",
        "      ln=\"\"\n",
        "      Y_train.append(h[2])\n",
        "    else:\n",
        "      if h[1]==\"Hin\" or h[1]==\"Eng\":\n",
        "        ln+=h[0]+\" \"\n",
        "train_text.append(ln)\n",
        "train_text = train_text[1:]\n",
        "#print(len(Y_train),len(train_text))"
      ],
      "execution_count": 0,
      "outputs": []
    },
    {
      "cell_type": "code",
      "metadata": {
        "id": "VVUwDK2ZdUQK",
        "colab_type": "code",
        "colab": {
          "base_uri": "https://localhost:8080/",
          "height": 34
        },
        "outputId": "3fc051f3-8132-48d9-a06f-01c68886f52c"
      },
      "source": [
        "test_text = []\n",
        "\n",
        "Y_test = []\n",
        "with open(\"test.txt\",\"r\") as fd:\n",
        "  ln = \"\"\n",
        "  for i in fd.readlines():\n",
        "    h = i.split()\n",
        "    if len(h)<2:\n",
        "      continue\n",
        "    elif h[0]==\"meta\":\n",
        "      test_text.append(ln)\n",
        "      ln=\"\"\n",
        "      Y_test.append(h[2])\n",
        "    else:\n",
        "      if h[1]==\"Hin\" or h[1]==\"Eng\":\n",
        "        ln+=h[0]+\" \"\n",
        "test_text.append(ln)\n",
        "test_text = test_text[1:]\n",
        "print(len(Y_test),len(test_text))"
      ],
      "execution_count": 3,
      "outputs": [
        {
          "output_type": "stream",
          "text": [
            "1869 1869\n"
          ],
          "name": "stdout"
        }
      ]
    },
    {
      "cell_type": "code",
      "metadata": {
        "id": "CE-tsP56TVFK",
        "colab_type": "code",
        "colab": {
          "base_uri": "https://localhost:8080/",
          "height": 54
        },
        "outputId": "3c371b68-e4d3-468d-ea6a-ce4a6c6471a9"
      },
      "source": [
        "from google.colab import drive\n",
        "drive.mount('/content/drive')"
      ],
      "execution_count": 4,
      "outputs": [
        {
          "output_type": "stream",
          "text": [
            "Drive already mounted at /content/drive; to attempt to forcibly remount, call drive.mount(\"/content/drive\", force_remount=True).\n"
          ],
          "name": "stdout"
        }
      ]
    },
    {
      "cell_type": "code",
      "metadata": {
        "id": "gQotF2ddTZP2",
        "colab_type": "code",
        "colab": {}
      },
      "source": [
        "tk = Tokenizer(num_words=None, char_level=True, oov_token='UNK')\n",
        "tk.fit_on_texts(train_text)"
      ],
      "execution_count": 0,
      "outputs": []
    },
    {
      "cell_type": "code",
      "metadata": {
        "id": "eyxlHM5IVErL",
        "colab_type": "code",
        "colab": {}
      },
      "source": [
        "X_train_seq = tk.texts_to_sequences(train_text)\n",
        "X_test_seq = tk.texts_to_sequences(test_text)\n",
        "X_train = pad_sequences(X_train_seq, maxlen=200, padding='post')\n",
        "X_test = pad_sequences(X_test_seq, maxlen=200, padding='post')"
      ],
      "execution_count": 0,
      "outputs": []
    },
    {
      "cell_type": "code",
      "metadata": {
        "id": "1EpVMsU1VNfV",
        "colab_type": "code",
        "colab": {}
      },
      "source": [
        "def intsentiment(Y):\n",
        "  intY = []\n",
        "  for i in range(len(Y)):\n",
        "    if Y[i]==\"positive\":\n",
        "      intY.append(0)\n",
        "    elif Y[i]==\"negative\":\n",
        "      intY.append(2)\n",
        "    else:\n",
        "      intY.append(1)\n",
        "  return intY"
      ],
      "execution_count": 0,
      "outputs": []
    },
    {
      "cell_type": "code",
      "metadata": {
        "id": "dUi3FKQdZeVH",
        "colab_type": "code",
        "colab": {}
      },
      "source": [
        "intY_train = intsentiment(Y_train)\n",
        "intY_test = intsentiment(Y_test)"
      ],
      "execution_count": 0,
      "outputs": []
    },
    {
      "cell_type": "code",
      "metadata": {
        "id": "Cp7qX7thZ8uf",
        "colab_type": "code",
        "colab": {}
      },
      "source": [
        "from sklearn.neural_network import MLPClassifier\n",
        "\n",
        "sentmodel = MLPClassifier(activation='tanh',batch_size='auto' ,hidden_layer_sizes=(204,150),\n",
        "              learning_rate='constant', learning_rate_init=0.001,\n",
        "              max_iter=200, random_state=42,\n",
        "              shuffle=True, solver='adam',\n",
        "              validation_fraction=0.1)\n",
        "\n"
      ],
      "execution_count": 0,
      "outputs": []
    },
    {
      "cell_type": "code",
      "metadata": {
        "id": "XzbcMR0jab-E",
        "colab_type": "code",
        "colab": {
          "base_uri": "https://localhost:8080/",
          "height": 138
        },
        "outputId": "c79e363b-5a68-46b4-d9f5-a0ea11f9bc11"
      },
      "source": [
        "sentmodel.fit(X_train,intY_train)"
      ],
      "execution_count": 78,
      "outputs": [
        {
          "output_type": "execute_result",
          "data": {
            "text/plain": [
              "MLPClassifier(activation='tanh', alpha=0.0001, batch_size='auto', beta_1=0.9,\n",
              "              beta_2=0.999, early_stopping=False, epsilon=1e-08,\n",
              "              hidden_layer_sizes=(204, 150), learning_rate='constant',\n",
              "              learning_rate_init=0.001, max_iter=200, momentum=0.9,\n",
              "              n_iter_no_change=10, nesterovs_momentum=True, power_t=0.5,\n",
              "              random_state=42, shuffle=True, solver='adam', tol=0.0001,\n",
              "              validation_fraction=0.1, verbose=False, warm_start=False)"
            ]
          },
          "metadata": {
            "tags": []
          },
          "execution_count": 78
        }
      ]
    },
    {
      "cell_type": "code",
      "metadata": {
        "id": "T8TYxfsJakGq",
        "colab_type": "code",
        "colab": {
          "base_uri": "https://localhost:8080/",
          "height": 34
        },
        "outputId": "85eca5e8-fd7f-4ed0-ba1f-d50ee0739eaf"
      },
      "source": [
        "sentmodel.score(X_test,intY_test)"
      ],
      "execution_count": 79,
      "outputs": [
        {
          "output_type": "execute_result",
          "data": {
            "text/plain": [
              "0.3852327447833066"
            ]
          },
          "metadata": {
            "tags": []
          },
          "execution_count": 79
        }
      ]
    },
    {
      "cell_type": "code",
      "metadata": {
        "id": "DVYfPz03fWR0",
        "colab_type": "code",
        "colab": {}
      },
      "source": [
        "Y_pred = sentmodel.predict(X_test)"
      ],
      "execution_count": 0,
      "outputs": []
    },
    {
      "cell_type": "code",
      "metadata": {
        "id": "gLEaVXIqhrNQ",
        "colab_type": "code",
        "colab": {}
      },
      "source": [
        "from sklearn.metrics import confusion_matrix, f1_score, precision_score, recall_score, accuracy_score\n",
        "f1score = []\n",
        "recalls = []\n",
        "precisions = []\n",
        "\n",
        "predict = Y_pred\n",
        "targ = intY_test\n",
        "f1 = f1_score(targ, predict,average=None)\n",
        "recall = recall_score(targ, predict,average=None)\n",
        "precision = precision_score(targ, predict,average=None)\n",
        "accuracy = accuracy_score(targ, predict)\n",
        "f1score.append(f1)\n",
        "recalls.append(recall)\n",
        "precisions.append(precision)\n"
      ],
      "execution_count": 0,
      "outputs": []
    },
    {
      "cell_type": "code",
      "metadata": {
        "id": "q_zCbKrNjr6Q",
        "colab_type": "code",
        "colab": {
          "base_uri": "https://localhost:8080/",
          "height": 190
        },
        "outputId": "d5e40e70-c04a-42ea-e518-caa39ebbf35c"
      },
      "source": [
        "print(\"f1_Positive: %f \\nf1_Negetive: %f \\nf1_Neutral: %f \\nprecision_Positive: %f \\nprecision_Negetive: %f \\nprecision_Neutral: %f \\nrecall_Positive %f \\nrecall_Negetive %f \\nrecall_Neutral %f \\nAccuracy: %f percent\" %(f1[0], f1[1], f1[2], precision[0], precision[1], precision[2], recall[0], recall[1], recall[2], accuracy*100))"
      ],
      "execution_count": 82,
      "outputs": [
        {
          "output_type": "stream",
          "text": [
            "f1_Positive: 0.373816 \n",
            "f1_Negetive: 0.412000 \n",
            "f1_Neutral: 0.360260 \n",
            "precision_Positive: 0.374784 \n",
            "precision_Negetive: 0.414209 \n",
            "precision_Neutral: 0.356618 \n",
            "recall_Positive 0.372852 \n",
            "recall_Negetive 0.409814 \n",
            "recall_Neutral 0.363977 \n",
            "Accuracy: 38.523274 percent\n"
          ],
          "name": "stdout"
        }
      ]
    },
    {
      "cell_type": "code",
      "metadata": {
        "id": "sQ33uFnXkapO",
        "colab_type": "code",
        "colab": {}
      },
      "source": [
        ""
      ],
      "execution_count": 0,
      "outputs": []
    }
  ]
}